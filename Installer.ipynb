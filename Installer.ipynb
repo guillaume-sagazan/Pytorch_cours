{
 "cells": [
  {
   "cell_type": "markdown",
   "metadata": {},
   "source": [
    "# Exemple utilisation PyTorch"
   ]
  },
  {
   "cell_type": "markdown",
   "metadata": {},
   "source": [
    "## PyTorch c'est quoi ?\n",
    "\n",
    "PyTorch est une bibliothèque qui permet la création et la maintenance des Réseaux de Neurones (RN).\n",
    "PyTorch est développer par Meta. Il existe d'autre Frameword de travail sur la création de Neurone comme son homologue Tensor Flows, développer par Google.\n",
    "\n",
    "En pratique \n",
    "L'une des particularités de PyTorch est de représenter les données sous forme de matrices à plusieurs dimensions appelées tenseurs. Ces derniers stockent les entrées des architectures de Deep Learning, les paramètres des couches cachées et bien évidemment les prédictions. La représentation des RN se fait par le moyen de graphique.\n",
    "\n",
    "Les avantages de PyTorch sont son fonctionnement dynamique, sa simplicité de vérification, sa souplesse et une API facile à débugger. Il peut maintenant même être utilisé en production même si on lui préferra Tensor FLows."
   ]
  },
  {
   "cell_type": "markdown",
   "metadata": {},
   "source": [
    "Télécharger PyTorch - fait le 29/02/2024 -\n",
    "Les conditions d'utilisations sont avoir une distribution de python supérieur à 3.8\n",
    "\n",
    "La version utilisée de PyTorch est la 2.2.1 et la distribution de python la 3.11.\n",
    "Le lien associé ou se trouve le moyen de le télécharger est https://pytorch.org/.\n",
    "\n",
    "La sélection de la version est générée par le biais d'une table est la commande de téléchargement est la suivante : \n",
    "- pip3 install torch torchvision torchaudio --index-url https://download.pytorch.org/whl/cu121.\n",
    "\n",
    "Toute nouvelle version doit impliquer d'aller sur le site pour changer le lien de commande."
   ]
  },
  {
   "cell_type": "code",
   "execution_count": null,
   "metadata": {
    "vscode": {
     "languageId": "powershell"
    }
   },
   "outputs": [
    {
     "ename": "",
     "evalue": "",
     "output_type": "error",
     "traceback": [
      "\u001b[1;31mRunning cells with 'c:\\Users\\Guillaume.SAGAZAN\\Documents\\Python Scripts\\GSE\\.conda\\python.exe' requires the ipykernel package.\n",
      "\u001b[1;31mRun the following command to install 'ipykernel' into the Python environment. \n",
      "\u001b[1;31mCommand: 'conda install -p c:\\Users\\Guillaume.SAGAZAN\\Documents\\Python Scripts\\GSE\\.conda ipykernel --update-deps --force-reinstall'"
     ]
    }
   ],
   "source": [
    "pip3 install torch torchvision torchaudio --index-url https://download.pytorch.org/whl/cu121"
   ]
  },
  {
   "cell_type": "markdown",
   "metadata": {},
   "source": [
    "Pour Installer la partie Visualisation\n",
    "pip install tensorflow\n",
    "pip install tensorboard"
   ]
  },
  {
   "cell_type": "code",
   "execution_count": null,
   "metadata": {
    "vscode": {
     "languageId": "powershell"
    }
   },
   "outputs": [],
   "source": []
  }
 ],
 "metadata": {
  "kernelspec": {
   "display_name": "Python 3",
   "language": "python",
   "name": "python3"
  },
  "language_info": {
   "name": "python",
   "version": "3.10.12"
  }
 },
 "nbformat": 4,
 "nbformat_minor": 2
}
