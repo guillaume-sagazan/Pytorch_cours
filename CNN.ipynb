{
 "cells": [
  {
   "cell_type": "markdown",
   "metadata": {},
   "source": [
    "# Convolution Neural Network (CNN)\n",
    "\n",
    "L'objectif de ce notebook est de présenter un CNN, son utilisation et son développement"
   ]
  },
  {
   "cell_type": "markdown",
   "metadata": {},
   "source": [
    "Le CNN est une architecture de Réseau de Neurone qui permet de classifier des Images.\n",
    "\n",
    "L'[Architecture d'un CNN](Images\\Architecture_CNN.png) est constituée de plusieurs couches succesives. Deux familles de couches sont trouvables, dans un CNN, qui sont :\n",
    "- Convolution qui agit comme un filtre sur les données qui parcours sur un ensemble de la sous image. L'opération réalisée est une étape de convolution sur l'image.\n",
    "- Pooling qui permet d'extraire les informations et de l'enregistrer. Cette étape permet également de rendre le Réseaux moins sensible au sur-apprentissage. L'opération réalisée sur le sous-ensemble est une méthode d'aggrégation (sum, mean, max, min par exemple)."
   ]
  },
  {
   "cell_type": "markdown",
   "metadata": {},
   "source": [
    "### Développement du CNN \n",
    "Ce Projet a pour objectif de classifier des images provenant du jeu de données CIFAR10"
   ]
  },
  {
   "cell_type": "code",
   "execution_count": 1,
   "metadata": {},
   "outputs": [],
   "source": [
    "import torch\n",
    "import torch.nn as nn\n",
    "import torch.nn.functional as F\n",
    "import torchvision\n",
    "import torchvision.transforms as transforms\n",
    "import matplotlib.pyplot as plt\n",
    "import numpy as np"
   ]
  },
  {
   "cell_type": "markdown",
   "metadata": {},
   "source": [
    "### Configuration Global"
   ]
  },
  {
   "cell_type": "code",
   "execution_count": 3,
   "metadata": {},
   "outputs": [],
   "source": [
    "# Device configuration\n",
    "device = torch.device('cuda' if torch.cuda.is_available() else 'cpu')\n",
    "\n",
    "# Hyper-parameters \n",
    "num_epochs = 5\n",
    "batch_size = 4\n",
    "learning_rate = 0.001"
   ]
  },
  {
   "cell_type": "markdown",
   "metadata": {},
   "source": [
    "### Importe toutes les données"
   ]
  },
  {
   "cell_type": "code",
   "execution_count": 4,
   "metadata": {},
   "outputs": [
    {
     "name": "stdout",
     "output_type": "stream",
     "text": [
      "Files already downloaded and verified\n",
      "Files already downloaded and verified\n"
     ]
    }
   ],
   "source": [
    "# dataset has PILImage images of range [0, 1]. \n",
    "# We transform them to Tensors of normalized range [-1, 1]\n",
    "transform = transforms.Compose(\n",
    "    [transforms.ToTensor(),\n",
    "     transforms.Normalize((0.5, 0.5, 0.5), (0.5, 0.5, 0.5))])\n",
    "\n",
    "# CIFAR10: 60000 32x32 color images in 10 classes, with 6000 images per class\n",
    "train_dataset = torchvision.datasets.CIFAR10(root='./data', train=True,\n",
    "                                        download=True, transform=transform)\n",
    "\n",
    "test_dataset = torchvision.datasets.CIFAR10(root='./data', train=False,\n",
    "                                       download=True, transform=transform)\n",
    "\n",
    "train_loader = torch.utils.data.DataLoader(train_dataset, batch_size=batch_size,\n",
    "                                          shuffle=True)\n",
    "\n",
    "test_loader = torch.utils.data.DataLoader(test_dataset, batch_size=batch_size,\n",
    "                                         shuffle=False)"
   ]
  },
  {
   "cell_type": "markdown",
   "metadata": {},
   "source": [
    "### Visualisation des données"
   ]
  },
  {
   "cell_type": "code",
   "execution_count": 5,
   "metadata": {},
   "outputs": [
    {
     "data": {
      "image/png": "[encoded data removed]",
      "text/plain": [
       "<Figure size 640x480 with 1 Axes>"
      ]
     },
     "metadata": {},
     "output_type": "display_data"
    }
   ],
   "source": [
    "classes = ('plane', 'car', 'bird', 'cat',\n",
    "           'deer', 'dog', 'frog', 'horse', 'ship', 'truck')\n",
    "\n",
    "def imshow(img):\n",
    "    img = img / 2 + 0.5  # unnormalize\n",
    "    npimg = img.numpy()\n",
    "    plt.imshow(np.transpose(npimg, (1, 2, 0)))\n",
    "    plt.show()\n",
    "\n",
    "\n",
    "# get some random training images\n",
    "dataiter = iter(train_loader)\n",
    "images, labels = next(dataiter)\n",
    "\n",
    "# show images\n",
    "imshow(torchvision.utils.make_grid(images))\n"
   ]
  },
  {
   "cell_type": "markdown",
   "metadata": {},
   "source": [
    "### Création du Réseau de Neurone"
   ]
  },
  {
   "cell_type": "markdown",
   "metadata": {},
   "source": [
    "Les dimension de l'output de la convolution layer est définie comme suit :\n",
    "\n",
    "$\\frac{W - F + 2P}{S} + 1$ avec \n",
    "\n",
    "W : La taille de l'arret de l'image = 5;\n",
    "F : La taille de l'arret du filtre = 3;\n",
    "P : Le Padding choisit = 0;\n",
    "stride : Le pas = 1;\n",
    "\n",
    "Le format de l'output du layer de convolution dans ce cas vaut 3 x 3.\n",
    "\n",
    "En ce qui concerne les inputs : 3 input pour les cannaux de l'images (RGB), 6 output pour les cannaux de sortie, 5 pour la taille du kernel"
   ]
  },
  {
   "cell_type": "code",
   "execution_count": 18,
   "metadata": {},
   "outputs": [
    {
     "data": {
      "text/plain": [
       "torch.Size([4, 6, 27, 27])"
      ]
     },
     "execution_count": 18,
     "metadata": {},
     "output_type": "execute_result"
    }
   ],
   "source": [
    "conv1 = nn.Conv2d(3, 6, 6) #dimension 3 = cannaux de couleur x output x Taille Kernel\n",
    "pool = nn.MaxPool2d(2, 2)\n",
    "conv2 = nn.Conv2d(6, 16, 5)\n",
    "\n",
    "conv1(images).shape"
   ]
  },
  {
   "cell_type": "code",
   "execution_count": 15,
   "metadata": {},
   "outputs": [],
   "source": [
    "class ConvNet(nn.Module):\n",
    "    def __init__(self):\n",
    "        super(ConvNet, self).__init__()\n",
    "        self.conv1 = nn.Conv2d(3, 6, 5) #dimension 3 = cannaux de couleur x output x Taille Kernel (nombre de pixel de côté qui sera considéré pour être filtré)\n",
    "        self.pool = nn.MaxPool2d(2, 2)\n",
    "        self.conv2 = nn.Conv2d(6, 16, 5)\n",
    "        self.fc1 = nn.Linear(16 * 5 * 5, 120) #Fully connected layer 16*5*5 = 400 size (information résultant de l'opération de tout mettre dans une colonne - Flatten)\n",
    "        self.fc2 = nn.Linear(120, 84) #Fully connected layer\n",
    "        self.fc3 = nn.Linear(84, 10) #Fully connected layer\n",
    "\n",
    "    def forward(self, x):\n",
    "        # -> n, 3, 32, 32\n",
    "        # F.relu(self.conv1(x) -> n, 3, 28, 28 (32 - 5 + 1) [le 1 provient du fait que les coins de l'images ne sont pas prise en compte]\n",
    "        x = self.pool(F.relu(self.conv1(x)))  # -> n, 6, 14, 14 | Pool permet de réduire la taille de la matrice par 2\n",
    "        x = self.pool(F.relu(self.conv2(x)))  # -> n, 16, 5, 5\n",
    "        x = x.view(-1, 16 * 5 * 5)            # -> n, 400 # Opération de Flatten\n",
    "        x = F.relu(self.fc1(x))               # -> n, 120\n",
    "        x = F.relu(self.fc2(x))               # -> n, 84\n",
    "        x = self.fc3(x)                       # -> n, 10 | Pas de fonction d'activation car elle est déjà présent dans la fonction de loss!\n",
    "        return x\n",
    "\n",
    "\n",
    "model = ConvNet().to(device)\n",
    "\n",
    "criterion = nn.CrossEntropyLoss()\n",
    "optimizer = torch.optim.SGD(model.parameters(), lr=learning_rate)"
   ]
  },
  {
   "cell_type": "markdown",
   "metadata": {},
   "source": [
    "### Entrainement du Réseau de Neurone"
   ]
  },
  {
   "cell_type": "code",
   "execution_count": 7,
   "metadata": {},
   "outputs": [
    {
     "name": "stdout",
     "output_type": "stream",
     "text": [
      "Epoch [1/5], Step [2000/12500], Loss: 2.3061\n",
      "Epoch [1/5], Step [4000/12500], Loss: 2.2715\n",
      "Epoch [1/5], Step [6000/12500], Loss: 2.2857\n",
      "Epoch [1/5], Step [8000/12500], Loss: 2.1516\n",
      "Epoch [1/5], Step [10000/12500], Loss: 2.0651\n",
      "Epoch [1/5], Step [12000/12500], Loss: 2.1359\n",
      "Epoch [2/5], Step [2000/12500], Loss: 1.7244\n",
      "Epoch [2/5], Step [4000/12500], Loss: 1.3644\n",
      "Epoch [2/5], Step [6000/12500], Loss: 1.3421\n",
      "Epoch [2/5], Step [8000/12500], Loss: 1.2035\n",
      "Epoch [2/5], Step [10000/12500], Loss: 1.9047\n",
      "Epoch [2/5], Step [12000/12500], Loss: 1.1929\n",
      "Epoch [3/5], Step [2000/12500], Loss: 1.4088\n",
      "Epoch [3/5], Step [4000/12500], Loss: 1.5618\n",
      "Epoch [3/5], Step [6000/12500], Loss: 2.0569\n",
      "Epoch [3/5], Step [8000/12500], Loss: 1.8352\n",
      "Epoch [3/5], Step [10000/12500], Loss: 1.3004\n",
      "Epoch [3/5], Step [12000/12500], Loss: 1.4616\n",
      "Epoch [4/5], Step [2000/12500], Loss: 1.0701\n",
      "Epoch [4/5], Step [4000/12500], Loss: 1.2050\n",
      "Epoch [4/5], Step [6000/12500], Loss: 0.9296\n",
      "Epoch [4/5], Step [8000/12500], Loss: 1.3637\n",
      "Epoch [4/5], Step [10000/12500], Loss: 1.9757\n",
      "Epoch [4/5], Step [12000/12500], Loss: 1.2983\n",
      "Epoch [5/5], Step [2000/12500], Loss: 1.4081\n",
      "Epoch [5/5], Step [4000/12500], Loss: 1.2418\n",
      "Epoch [5/5], Step [6000/12500], Loss: 1.4031\n",
      "Epoch [5/5], Step [8000/12500], Loss: 1.3391\n",
      "Epoch [5/5], Step [10000/12500], Loss: 1.3746\n",
      "Epoch [5/5], Step [12000/12500], Loss: 2.4155\n",
      "Finished Training\n"
     ]
    }
   ],
   "source": [
    "n_total_steps = len(train_loader)\n",
    "for epoch in range(num_epochs):\n",
    "    for i, (images, labels) in enumerate(train_loader):\n",
    "        # origin shape: [4, 3, 32, 32] = 4, 3, 1024\n",
    "        # input_layer: 3 input channels, 6 output channels, 5 kernel size\n",
    "        images = images.to(device)\n",
    "        labels = labels.to(device)\n",
    "\n",
    "        # Forward pass\n",
    "        outputs = model(images)\n",
    "        loss = criterion(outputs, labels)\n",
    "\n",
    "        # Backward and optimize\n",
    "        optimizer.zero_grad()\n",
    "        loss.backward()\n",
    "        optimizer.step()\n",
    "\n",
    "        if (i+1) % 2000 == 0:\n",
    "            print (f'Epoch [{epoch+1}/{num_epochs}], Step [{i+1}/{n_total_steps}], Loss: {loss.item():.4f}')\n",
    "\n",
    "print('Finished Training')\n",
    "PATH = './cnn.pth'\n",
    "torch.save(model.state_dict(), PATH)"
   ]
  },
  {
   "cell_type": "markdown",
   "metadata": {},
   "source": [
    "### Vérification de l'entrainement dans un cas de test"
   ]
  },
  {
   "cell_type": "code",
   "execution_count": 8,
   "metadata": {},
   "outputs": [
    {
     "name": "stdout",
     "output_type": "stream",
     "text": [
      "Accuracy of the network: 50.06 %\n",
      "Accuracy of plane: 51.3 %\n",
      "Accuracy of car: 73.3 %\n",
      "Accuracy of bird: 41.9 %\n",
      "Accuracy of cat: 30.3 %\n",
      "Accuracy of deer: 25.9 %\n",
      "Accuracy of dog: 42.1 %\n",
      "Accuracy of frog: 73.8 %\n",
      "Accuracy of horse: 58.6 %\n",
      "Accuracy of ship: 65.0 %\n",
      "Accuracy of truck: 38.4 %\n"
     ]
    }
   ],
   "source": [
    "with torch.no_grad():\n",
    "    n_correct = 0\n",
    "    n_samples = 0\n",
    "    n_class_correct = [0 for i in range(10)]\n",
    "    n_class_samples = [0 for i in range(10)]\n",
    "    for images, labels in test_loader:\n",
    "        images = images.to(device)\n",
    "        labels = labels.to(device)\n",
    "        outputs = model(images)\n",
    "        # max returns (value ,index)\n",
    "        _, predicted = torch.max(outputs, 1)\n",
    "        n_samples += labels.size(0)\n",
    "        n_correct += (predicted == labels).sum().item()\n",
    "        \n",
    "        for i in range(batch_size):\n",
    "            label = labels[i]\n",
    "            pred = predicted[i]\n",
    "            if (label == pred):\n",
    "                n_class_correct[label] += 1\n",
    "            n_class_samples[label] += 1\n",
    "\n",
    "    acc = 100.0 * n_correct / n_samples\n",
    "    print(f'Accuracy of the network: {acc} %')\n",
    "\n",
    "    for i in range(10):\n",
    "        acc = 100.0 * n_class_correct[i] / n_class_samples[i]\n",
    "        print(f'Accuracy of {classes[i]}: {acc} %')"
   ]
  },
  {
   "cell_type": "markdown",
   "metadata": {},
   "source": [
    "### Transfert Learning"
   ]
  },
  {
   "cell_type": "markdown",
   "metadata": {},
   "source": [
    "A faire"
   ]
  },
  {
   "cell_type": "markdown",
   "metadata": {},
   "source": []
  }
 ],
 "metadata": {
  "kernelspec": {
   "display_name": ".venv",
   "language": "python",
   "name": "python3"
  },
  "language_info": {
   "codemirror_mode": {
    "name": "ipython",
    "version": 3
   },
   "file_extension": ".py",
   "mimetype": "text/x-python",
   "name": "python",
   "nbconvert_exporter": "python",
   "pygments_lexer": "ipython3",
   "version": "3.11.8"
  }
 },
 "nbformat": 4,
 "nbformat_minor": 2
}
